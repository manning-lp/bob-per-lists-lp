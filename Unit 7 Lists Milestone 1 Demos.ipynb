{
 "cells": [
  {
   "cell_type": "markdown",
   "metadata": {
    "slideshow": {
     "slide_type": "skip"
    }
   },
   "source": [
    "## Demos Milestone 1"
   ]
  },
  {
   "cell_type": "markdown",
   "metadata": {
    "slideshow": {
     "slide_type": "notes"
    }
   },
   "source": [
    "### slicing\n",
    "\n",
    "Using slices with lists in Python is a rich topic, unfortunately we will not be able to cover all aspects in this Milestone. For more info on slicing, be sure to refer to the texts provided with this activity.\n",
    "\n",
    "The key to understanding slicing is to keep in mind that there are three possible parameters in a slice, and they all can be omitted and replaced by defaults:\n",
    "\n",
    "* start - the index in the list where the slice begins. If left out, it defaults to 0, the first item in the list. So `a_list[:5]` is the same as `a_list[0:5]`\n",
    "* end - the index in the list the slice will stop **before**. If left out, it defaults to one more than the last item of the list, meaning that the slice will include the last item. So `a_list[0:]` is the same as `a_list[0:5]`, assuming that our list contains 5 items.\n",
    "* step - the number of items the slice will advance by. If left out, it defaults to 1, meaning that the slice will include every item. If the slice is larger, it will only take items that are slots that are multiples of step. So `a_list[::2]` will start from index 0 and slice every second item, `list[::3]` will slice every third items, and so on. \n",
    "\n",
    "**Slices as copies**: slices create new lists so a slice of the entire list, e.g., `a_list[:]` will create a new list object that contains the same objects as the original.\n",
    "\n",
    "**Negative values**: if start or end is negative, the indexes are counting from the **end** of the list, with -1 being the last item in the list. If the step is negative, the slice will move in reverse, so `list[-1::-1]` will return the items of the list in reverse order.\n",
    "\n",
    "**Empty slices**: if the start and end values describe a slice that doesn't have any items, it will return an empty list. "
   ]
  },
  {
   "cell_type": "code",
   "execution_count": 64,
   "metadata": {
    "slideshow": {
     "slide_type": "slide"
    }
   },
   "outputs": [
    {
     "name": "stdout",
     "output_type": "stream",
     "text": [
      "[0, 1, 2]\n",
      "[3, 4, 5, 6]\n",
      "[0, 1, 2, 3, 4, 5, 6]\n",
      "[0, 2, 4, 6]\n",
      "[6, 5, 4, 3, 2, 1, 0]\n"
     ]
    }
   ],
   "source": [
    "a_list = [0,1,2,3,4,5,6]\n",
    "print(a_list[:3])\n",
    "## pause\n",
    "print(a_list[3:])\n",
    "## pause\n",
    "print(a_list[:])\n",
    "## pause\n",
    "print(a_list[::2])\n",
    "## pause\n",
    "print(a_list[-1::-1])"
   ]
  },
  {
   "cell_type": "markdown",
   "metadata": {
    "slideshow": {
     "slide_type": "notes"
    }
   },
   "source": [
    "### Editing with slices\n",
    "\n",
    "One useful thing about slices in Python is that they can be use to add, delete, or change items in a list.\n",
    "\n",
    "* To change items, just set a slice of a list equal to a new list of the same size as the slice\n",
    "* To add items, set a slice of the list (even an empty slice) to a larger list\n",
    "* To remove items, set a slice equal to a smaller or empty list"
   ]
  },
  {
   "cell_type": "code",
   "execution_count": 67,
   "metadata": {
    "slideshow": {
     "slide_type": "slide"
    }
   },
   "outputs": [
    {
     "name": "stdout",
     "output_type": "stream",
     "text": [
      "[10, 20, 30, 3, 4, 5, 6]\n",
      "[10, 20, 30, 33, 44, 3, 4, 5, 6]\n",
      "[10, 20, 30, 3, 4, 5, 6]\n"
     ]
    }
   ],
   "source": [
    "a_list = [0,1,2,3,4,5,6]\n",
    "\n",
    "# change \n",
    "a_list[:3] = [10, 20, 30]\n",
    "print(a_list)\n",
    "## pause\n",
    "\n",
    "# add items\n",
    "a_list[3:3] = [33, 44]\n",
    "print(a_list)\n",
    "## pause\n",
    "\n",
    "# delete items\n",
    "a_list[3:5] = []\n",
    "print(a_list)\n"
   ]
  },
  {
   "cell_type": "markdown",
   "metadata": {
    "slideshow": {
     "slide_type": "skip"
    }
   },
   "source": [
    "### list comprehensions\n",
    "\n",
    "In many situations it's very useful to do something relatively simple to every item in a list - maybe it's extracting a part of a list or stripping off spaces. Or it might even be picking out only certain items that meet some condition. In general this type of operation is called a *filter* and Python has a convenient way of handling it, called a list comprehension."
   ]
  },
  {
   "cell_type": "markdown",
   "metadata": {
    "slideshow": {
     "slide_type": "skip"
    }
   },
   "source": [
    "In its simplest form, a list comprehension just produces another list with the same elements. "
   ]
  },
  {
   "cell_type": "code",
   "execution_count": 1,
   "metadata": {
    "slideshow": {
     "slide_type": "slide"
    }
   },
   "outputs": [
    {
     "data": {
      "text/plain": [
       "['one  ', 'two  ', 'three']"
      ]
     },
     "execution_count": 1,
     "metadata": {},
     "output_type": "execute_result"
    }
   ],
   "source": [
    "a_list = [\"one  \", \"two  \", \"three\"]\n",
    "new_list = [x for x in a_list]\n",
    "new_list"
   ]
  },
  {
   "cell_type": "markdown",
   "metadata": {
    "slideshow": {
     "slide_type": "skip"
    }
   },
   "source": [
    "But we can also make simple changes in what is returned, like trimming spaces:"
   ]
  },
  {
   "cell_type": "code",
   "execution_count": 7,
   "metadata": {
    "slideshow": {
     "slide_type": "slide"
    }
   },
   "outputs": [
    {
     "data": {
      "text/plain": [
       "['one', 'two', 'three']"
      ]
     },
     "execution_count": 7,
     "metadata": {},
     "output_type": "execute_result"
    }
   ],
   "source": [
    "a_list = [\"one  \", \" two  \", \"three\"]\n",
    "new_list = [x.strip() for x in a_list]\n",
    "new_list"
   ]
  },
  {
   "cell_type": "markdown",
   "metadata": {
    "slideshow": {
     "slide_type": "skip"
    }
   },
   "source": [
    "We can also add an if statement to return elements based on some condition, like being > 0:"
   ]
  },
  {
   "cell_type": "code",
   "execution_count": 5,
   "metadata": {
    "slideshow": {
     "slide_type": "slide"
    }
   },
   "outputs": [
    {
     "data": {
      "text/plain": [
       "[1, 4, 2]"
      ]
     },
     "execution_count": 5,
     "metadata": {},
     "output_type": "execute_result"
    }
   ],
   "source": [
    "a_list = [1, -3, 4, 2, -5, -6, 0]\n",
    "new_list = [x for x in a_list if x > 0]\n",
    "new_list"
   ]
  },
  {
   "cell_type": "markdown",
   "metadata": {
    "slideshow": {
     "slide_type": "skip"
    }
   },
   "source": [
    "### `sort` and keys \n",
    "\n",
    "The other list method that is very useful is `sort()`. Called with no parameters on a list `.sort()` will put things in order based on their default comparison methods. (Note: if all of the items in the list are not comparable with each other, like a list with integers and strings, an exception will be raised):\n"
   ]
  },
  {
   "cell_type": "code",
   "execution_count": 12,
   "metadata": {
    "slideshow": {
     "slide_type": "slide"
    }
   },
   "outputs": [
    {
     "data": {
      "text/plain": [
       "['one  ', 'three', 'two  ']"
      ]
     },
     "execution_count": 12,
     "metadata": {},
     "output_type": "execute_result"
    }
   ],
   "source": [
    "a_list = [\"one  \", \"two  \", \"three\"]\n",
    "a_list.sort()\n",
    "a_list"
   ]
  },
  {
   "cell_type": "code",
   "execution_count": 13,
   "metadata": {
    "slideshow": {
     "slide_type": "slide"
    }
   },
   "outputs": [
    {
     "data": {
      "text/plain": [
       "[-6, -5, -3, 0, 1, 2, 4]"
      ]
     },
     "execution_count": 13,
     "metadata": {},
     "output_type": "execute_result"
    }
   ],
   "source": [
    "\n",
    "a_list = [1, -3, 4, 2, -5, -6, 0]\n",
    "a_list.sort()\n",
    "a_list"
   ]
  },
  {
   "cell_type": "code",
   "execution_count": 1,
   "metadata": {
    "slideshow": {
     "slide_type": "slide"
    }
   },
   "outputs": [
    {
     "ename": "TypeError",
     "evalue": "'<' not supported between instances of 'int' and 'str'",
     "output_type": "error",
     "traceback": [
      "\u001b[0;31m---------------------------------------------------------------------------\u001b[0m",
      "\u001b[0;31mTypeError\u001b[0m                                 Traceback (most recent call last)",
      "\u001b[0;32m<ipython-input-1-702b46a61d8a>\u001b[0m in \u001b[0;36m<module>\u001b[0;34m\u001b[0m\n\u001b[1;32m      1\u001b[0m \u001b[0ma_list\u001b[0m \u001b[0;34m=\u001b[0m \u001b[0;34m[\u001b[0m\u001b[0;34m\"one  \"\u001b[0m\u001b[0;34m,\u001b[0m \u001b[0;34m\"2\"\u001b[0m\u001b[0;34m,\u001b[0m \u001b[0;36m3\u001b[0m\u001b[0;34m]\u001b[0m\u001b[0;34m\u001b[0m\u001b[0;34m\u001b[0m\u001b[0m\n\u001b[0;32m----> 2\u001b[0;31m \u001b[0ma_list\u001b[0m\u001b[0;34m.\u001b[0m\u001b[0msort\u001b[0m\u001b[0;34m(\u001b[0m\u001b[0;34m)\u001b[0m\u001b[0;34m\u001b[0m\u001b[0;34m\u001b[0m\u001b[0m\n\u001b[0m\u001b[1;32m      3\u001b[0m \u001b[0ma_list\u001b[0m\u001b[0;34m\u001b[0m\u001b[0;34m\u001b[0m\u001b[0m\n",
      "\u001b[0;31mTypeError\u001b[0m: '<' not supported between instances of 'int' and 'str'"
     ]
    }
   ],
   "source": [
    "a_list = [\"one  \", \"2\", 3]\n",
    "a_list.sort()\n",
    "a_list"
   ]
  },
  {
   "cell_type": "markdown",
   "metadata": {
    "slideshow": {
     "slide_type": "skip"
    }
   },
   "source": [
    "But you can also use a `key` parameter to control what the sort method looks at when it sorts. Usually what is given the key parameter is a lambda, or anonymous function that returns the value that we want to be used in the sort. \n",
    "\n",
    "The form of a lambda is the keyword `lambda`, a name for the item parameter, a colon, and then the expression that will be returned.\n",
    "\n",
    "    `my_list.sort(key=x:<some expression>)`\n",
    "\n",
    "For example, the following example creates a lambda that returns the absolute value of the item, so the elements will be sorted by absolute value."
   ]
  },
  {
   "cell_type": "code",
   "execution_count": 14,
   "metadata": {
    "slideshow": {
     "slide_type": "slide"
    }
   },
   "outputs": [
    {
     "data": {
      "text/plain": [
       "[0, 1, 2, -3, 4, -5, -6]"
      ]
     },
     "execution_count": 14,
     "metadata": {},
     "output_type": "execute_result"
    }
   ],
   "source": [
    "a_list = [1, -3, 4, 2, -5, -6, 0]\n",
    "a_list.sort(key=lambda x: abs(x))\n",
    "a_list"
   ]
  }
 ],
 "metadata": {
  "celltoolbar": "Slideshow",
  "kernelspec": {
   "display_name": "Python 3 (ipykernel)",
   "language": "python",
   "name": "python3"
  },
  "language_info": {
   "codemirror_mode": {
    "name": "ipython",
    "version": 3
   },
   "file_extension": ".py",
   "mimetype": "text/x-python",
   "name": "python",
   "nbconvert_exporter": "python",
   "pygments_lexer": "ipython3",
   "version": "3.9.7"
  },
  "livereveal": {
   "scroll": true,
   "start_slideshow_at": "selected",
   "theme": "white",
   "transition": "none"
  },
  "toc": {
   "base_numbering": 1,
   "nav_menu": {},
   "number_sections": false,
   "sideBar": true,
   "skip_h1_title": false,
   "title_cell": "Table of Contents",
   "title_sidebar": "Contents",
   "toc_cell": false,
   "toc_position": {},
   "toc_section_display": true,
   "toc_window_display": false
  }
 },
 "nbformat": 4,
 "nbformat_minor": 4
}
