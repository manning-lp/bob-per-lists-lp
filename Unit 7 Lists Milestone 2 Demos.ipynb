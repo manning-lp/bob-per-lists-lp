{
 "cells": [
  {
   "cell_type": "markdown",
   "metadata": {
    "slideshow": {
     "slide_type": "skip"
    }
   },
   "source": [
    "## Unit 7 Lists - Demos Milestone 2"
   ]
  },
  {
   "cell_type": "code",
   "execution_count": 1,
   "metadata": {
    "slideshow": {
     "slide_type": "slide"
    }
   },
   "outputs": [],
   "source": [
    "from sys import getsizeof\n",
    "\n",
    "a = \"a\"\n",
    "print(getsizeof(a))\n",
    "b = \"a\" * 10\n",
    "print(getsizeof(a))\n",
    "print(getsizeof([a]))"
   ]
  },
  {
   "cell_type": "markdown",
   "metadata": {
    "slideshow": {
     "slide_type": "notes"
    }
   },
   "source": [
    "Using a list comprehension will create a list object, but you can sometimes achieve the same result by using a generator expression. Just as a list comprehension is a more concise way of creating a loop that iterates over a list, a generator expression is a more concise way to harness the power of generator functions, which were covered in the unit on iteration.  \n",
    "\n",
    "A generator expression looks very similar to a list comprehension (to the point that some have suggested calling them *generator comprehensions*), but with parenthesis instead of square brackets."
   ]
  },
  {
   "cell_type": "code",
   "execution_count": 65,
   "metadata": {
    "scrolled": true,
    "slideshow": {
     "slide_type": "slide"
    }
   },
   "outputs": [
    {
     "name": "stdout",
     "output_type": "stream",
     "text": [
      "3\n",
      "1\n",
      "9\n",
      "5\n",
      "7\n",
      "3\n",
      "1\n",
      "9\n",
      "5\n",
      "7\n"
     ]
    }
   ],
   "source": [
    "a_list = [6, 3, 4, 8, 2, 1, 9, 5, 7, 0]\n",
    "\n",
    "# list comprehension to pick out odd numbers\n",
    "odds_01 = [x for x in a_list if x %2]\n",
    "for odd in odds_01:\n",
    "    print(odd)\n",
    "\n",
    "# generator expression to do the same\n",
    "odds_02 = (x for x in a_list if x %2)\n",
    "for odd in odds_02:\n",
    "    print(odd)\n",
    "\n"
   ]
  },
  {
   "cell_type": "code",
   "execution_count": 66,
   "metadata": {
    "slideshow": {
     "slide_type": "slide"
    }
   },
   "outputs": [
    {
     "name": "stdout",
     "output_type": "stream",
     "text": [
      "[3, 1, 9, 5, 7]\n",
      "<generator object <genexpr> at 0x7ffe2124d970>\n"
     ]
    }
   ],
   "source": [
    "print(odds_01)\n",
    "print(odds_02)"
   ]
  },
  {
   "cell_type": "markdown",
   "metadata": {
    "slideshow": {
     "slide_type": "notes"
    }
   },
   "source": [
    "### `sorted()` and `reverse()` functions\n",
    "\n",
    "Python has other functions that can help you deal with lists. Two common ones are `sorted()` and `reversed()`. `sorted()` works very much like the `.sort()` method, but instead of sorting the list in place, it creates a sorted copy of the list."
   ]
  },
  {
   "cell_type": "code",
   "execution_count": 239,
   "metadata": {
    "slideshow": {
     "slide_type": "slide"
    }
   },
   "outputs": [
    {
     "data": {
      "text/plain": [
       "[0, 1, 2, 3, 4, 5, 6, 7, 8, 9]"
      ]
     },
     "execution_count": 239,
     "metadata": {},
     "output_type": "execute_result"
    }
   ],
   "source": [
    "a_list = [6, 3, 4, 8, 2, 1, 9, 5, 7, 0]\n",
    "\n",
    "new_list = sorted(a_list)\n",
    "new_list"
   ]
  },
  {
   "cell_type": "markdown",
   "metadata": {
    "slideshow": {
     "slide_type": "notes"
    }
   },
   "source": [
    "`reversed()`, as you might expect, works like the `reverse()` method of a list, and like `sorted()` it doesn't sort the list in place. But unlike `sorted()` the `reversed()` function is a generator, so it will not return a sorted copy of the list, but instead will return an iterator that will return the items in reversed order. Being a generator, it will use less memory, since it doesn't create a new list. "
   ]
  },
  {
   "cell_type": "code",
   "execution_count": 240,
   "metadata": {
    "slideshow": {
     "slide_type": "slide"
    }
   },
   "outputs": [
    {
     "data": {
      "text/plain": [
       "<list_reverseiterator at 0x7ffe226a9250>"
      ]
     },
     "execution_count": 240,
     "metadata": {},
     "output_type": "execute_result"
    }
   ],
   "source": [
    "a_list = [0, 1, 2, 3, 4, 5, 6, 7, 8, 9]\n",
    "new_list = reversed(a_list)\n",
    "new_list"
   ]
  },
  {
   "cell_type": "code",
   "execution_count": 241,
   "metadata": {
    "scrolled": true,
    "slideshow": {
     "slide_type": "slide"
    }
   },
   "outputs": [
    {
     "name": "stdout",
     "output_type": "stream",
     "text": [
      "9\n",
      "8\n",
      "7\n",
      "6\n",
      "5\n",
      "4\n",
      "3\n",
      "2\n",
      "1\n",
      "0\n"
     ]
    }
   ],
   "source": [
    "for x in new_list:\n",
    "    print(x)"
   ]
  }
 ],
 "metadata": {
  "celltoolbar": "Slideshow",
  "kernelspec": {
   "display_name": "Python 3 (ipykernel)",
   "language": "python",
   "name": "python3"
  },
  "language_info": {
   "codemirror_mode": {
    "name": "ipython",
    "version": 3
   },
   "file_extension": ".py",
   "mimetype": "text/x-python",
   "name": "python",
   "nbconvert_exporter": "python",
   "pygments_lexer": "ipython3",
   "version": "3.9.7"
  },
  "livereveal": {
   "scroll": true,
   "start_slideshow_at": "selected",
   "theme": "white",
   "transition": "none"
  },
  "toc": {
   "base_numbering": 1,
   "nav_menu": {},
   "number_sections": false,
   "sideBar": true,
   "skip_h1_title": false,
   "title_cell": "Table of Contents",
   "title_sidebar": "Contents",
   "toc_cell": false,
   "toc_position": {},
   "toc_section_display": true,
   "toc_window_display": false
  }
 },
 "nbformat": 4,
 "nbformat_minor": 4
}
