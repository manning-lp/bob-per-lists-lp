{
 "cells": [
  {
   "cell_type": "markdown",
   "metadata": {},
   "source": [
    "## Workflow: Slices and Comprehensions\n",
    "\n",
    "Objective\n",
    "\n",
    "- Use slicing to extract segments of a list\n",
    "- Use list comprehensions as a filter to select only some items from a list\n",
    "- Sort lists using the sort() method and a key parameter\n",
    "\n",
    "Importance to project\n",
    "\n",
    "- This milestone will give you practical experience with the basics of manipulating lists in Python."
   ]
  },
  {
   "cell_type": "code",
   "execution_count": 53,
   "metadata": {},
   "outputs": [
    {
     "name": "stdout",
     "output_type": "stream",
     "text": [
      "['sku', 'description', 'cost', 'stock', 'margin', 'list_price', 'units_sold_web', 'units_sold_stores', 'date']\n",
      "['31288', 'Super Whatsit, Large (Dozen)', 301.81, 479, 0.47, 442.22, 457, 956, '2021-06-21']\n",
      "['35957', 'Premium Widget, Extra Large (Gross)', 794.74, 855, 0.37, 1088.98, 816, 442, '2021-06-21']\n",
      "['91505', 'Deluxe Widget, Extra Large (Gross)', 16.23, 2808, 0.28, 20.77, 406, 665, '2021-06-21']\n",
      "['31258', 'Budget Device, Giant (Gross)', 7.86, 663, 0.34, 10.56, 752, 442, '2021-06-21']\n"
     ]
    }
   ],
   "source": [
    "# 1. Loading the data...\n",
    "\n",
    "from data import product_data\n",
    "\n",
    "# test\n",
    "for row in range(5): # len(product_data)):\n",
    "    print(product_data[row])"
   ]
  },
  {
   "cell_type": "code",
   "execution_count": 54,
   "metadata": {},
   "outputs": [
    {
     "name": "stdout",
     "output_type": "stream",
     "text": [
      "['sku', 'description', 'current_sales', 'margin']\n",
      "['11009', 'Economy Device, Micro (Dozen)', 4123855.6999999997]\n",
      "['11663', 'Economy Device, Micro (Gross)', 2529807.6999999997]\n",
      "['13290', 'Premium Gizmo, Large ', 1520431.36]\n",
      "['15862', 'Economy Whatsit, Micro (Gross)', 4089473.0999999996]\n"
     ]
    }
   ],
   "source": [
    "# 3. ... create the data for a basic report... SKU, description, and current_sales (total sold x list_price)... sort by SKU\n",
    "\n",
    "# input_fields = { 0: \"sku\", 1: \"description\", 5: \"list_price\", 6: \"units_sold_web\", 7: \"units_sold_stores\" }\n",
    "# output_fields = { 0: \"sku\", 1: \"description\", 2: \"current_sales\" }\n",
    "# header = [heading for heading in output_fields.values()]\n",
    "header = ['sku', 'description', 'current_sales', 'margin']\n",
    "#print(header)\n",
    "\n",
    "report = []\n",
    "for row in range(1, len(product_data)):\n",
    "    sku = product_data[row][0]\n",
    "    description = product_data[row][1]\n",
    "    list_price = float(product_data[row][5])\n",
    "    units_sold_web = int(product_data[row][6])\n",
    "    units_sold_stores = int(product_data[row][7])\n",
    "    current_sales = list_price * (units_sold_web + units_sold_stores)\n",
    "    report.append([sku, description, current_sales])\n",
    "report.sort()\n",
    "report.insert(0, header)\n",
    "#report\n",
    "\n",
    "# test\n",
    "for row in range(5):\n",
    "    print(report[row])"
   ]
  },
  {
   "cell_type": "code",
   "execution_count": 55,
   "metadata": {},
   "outputs": [
    {
     "name": "stdout",
     "output_type": "stream",
     "text": [
      "['sku', 'description', 'current_sales']\n",
      "['72710', 'Economy Gizmo, Large ', 0.47, 4558402.0]\n",
      "['11009', 'Economy Device, Micro (Dozen)', 0.29, 4123855.6999999997]\n",
      "['15862', 'Economy Whatsit, Micro (Gross)', 0.37, 4089473.0999999996]\n",
      "['30603', 'Budget Whatsit, Giant (Dozen)', 0.45, 3294479.01]\n"
     ]
    }
   ],
   "source": [
    "# 4. ... second report... same data fields plus margin field... only skus with sales over 1M\n",
    "#    ... sorted on current sales from highest to lowest\n",
    "\n",
    "header2 = ['sku', 'description', 'current_sales']\n",
    "#print(header)\n",
    "\n",
    "# gather initial data\n",
    "report2 = []\n",
    "for row in range(1, len(product_data)):\n",
    "    sku = product_data[row][0]\n",
    "    description = product_data[row][1]\n",
    "    margin = float(product_data[row][4])\n",
    "    list_price = float(product_data[row][5])\n",
    "    units_sold_web = int(product_data[row][6])\n",
    "    units_sold_stores = int(product_data[row][7])\n",
    "    current_sales = list_price * (units_sold_web + units_sold_stores)\n",
    "    if current_sales > 1_000_000:\n",
    "        report2.append([sku, description, margin, current_sales])\n",
    "\n",
    "# sort by current_sales descending\n",
    "#def sort_on_sales(data_row):\n",
    "#    return data_row[3]\n",
    "#report2.sort(key=sort_on_sales, reverse=True)\n",
    "report2.sort(key=lambda x:x[3], reverse=True)\n",
    "\n",
    "# add header row\n",
    "report2.insert(0, header2)\n",
    "#report2\n",
    "\n",
    "# test\n",
    "for row in range(5):\n",
    "    print(report2[row])"
   ]
  }
 ],
 "metadata": {
  "kernelspec": {
   "display_name": "Python 3",
   "language": "python",
   "name": "python3"
  },
  "language_info": {
   "codemirror_mode": {
    "name": "ipython",
    "version": 3
   },
   "file_extension": ".py",
   "mimetype": "text/x-python",
   "name": "python",
   "nbconvert_exporter": "python",
   "pygments_lexer": "ipython3",
   "version": "3.12.8"
  }
 },
 "nbformat": 4,
 "nbformat_minor": 2
}
