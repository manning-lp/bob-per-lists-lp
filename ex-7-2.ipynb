{
 "cells": [
  {
   "cell_type": "markdown",
   "metadata": {},
   "source": [
    "## Workflow: Lists and Memory\n",
    "\n",
    "Objective\n",
    "\n",
    "- See how lists use memory and how making copies and sublists affects memory\n",
    "- Learn how to minimize that impact if necessary by using a generator expression\n",
    "\n",
    "Importance to project\n",
    "\n",
    "- This milestone will help you understand the real memory costs of creating lists using slices and list comprehensions and help you minimize those costs when needed by using a generator expression instead of a list comprehension."
   ]
  },
  {
   "cell_type": "code",
   "execution_count": 102,
   "metadata": {},
   "outputs": [
    {
     "name": "stdout",
     "output_type": "stream",
     "text": [
      "['sku', 'description', 'cost', 'stock', 'margin', 'list_price', 'units_sold_web', 'units_sold_stores', 'date']\n",
      "['31288', 'Super Whatsit, Large (Dozen)', 301.81, 479, 0.47, 442.22, 457, 956, '2021-06-21']\n",
      "['35957', 'Premium Widget, Extra Large (Gross)', 794.74, 855, 0.37, 1088.98, 816, 442, '2021-06-21']\n",
      "['91505', 'Deluxe Widget, Extra Large (Gross)', 16.23, 2808, 0.28, 20.77, 406, 665, '2021-06-21']\n",
      "['31258', 'Budget Device, Giant (Gross)', 7.86, 663, 0.34, 10.56, 752, 442, '2021-06-21']\n",
      "\n",
      "['11009', 'Economy Device, Micro (Dozen)', 4123855.6999999997]\n",
      "['11663', 'Economy Device, Micro (Gross)', 2529807.6999999997]\n",
      "['13290', 'Premium Gizmo, Large ', 1520431.36]\n",
      "['15862', 'Economy Whatsit, Micro (Gross)', 4089473.0999999996]\n",
      "['16052', 'Super Whatsit, Large ', 892012.66]\n",
      "\n",
      "['72710', 'Economy Gizmo, Large ', 0.47, 4558402.0]\n",
      "['11009', 'Economy Device, Micro (Dozen)', 0.29, 4123855.6999999997]\n",
      "['15862', 'Economy Whatsit, Micro (Gross)', 0.37, 4089473.0999999996]\n",
      "['30603', 'Budget Whatsit, Giant (Dozen)', 0.45, 3294479.01]\n",
      "['80372', 'Economy Device, Large (Gross)', 0.42, 2694492.3]\n",
      "\n"
     ]
    }
   ],
   "source": [
    "# 1. Loading the data...\n",
    "\n",
    "from data import product_data\n",
    "\n",
    "# helper\n",
    "def print_test_rows(data):\n",
    "    for row in range(5):\n",
    "        print(data[row])\n",
    "    print()\n",
    "\n",
    "# test\n",
    "print_test_rows(product_data)\n",
    "\n",
    "\n",
    "# report 1 using slice and comprehension based on solution examples\n",
    "\n",
    "# [ [sku, description] + [(current_sales)] ]\n",
    "report = [x[:2] + [x[5] * (x[6] + x[7])] for x in product_data[1:]]\n",
    "report.sort()\n",
    "\n",
    "# test\n",
    "print_test_rows(report)\n",
    "\n",
    "\n",
    "# report 2 using slice and comprehension based on solution examples\n",
    "\n",
    "# [ [sku. description] + [margin] + [current_sales] ]\n",
    "report2 = [ x[:2] + [x[4]] + [x[5] * (x[6] + x[7])] for x in product_data[1:] if x[5] * (x[6] + x[7]) > 1_000_000 ]\n",
    "report2.sort(key=lambda x:x[3], reverse=True)\n",
    "\n",
    "# test\n",
    "print_test_rows(report2)"
   ]
  },
  {
   "cell_type": "code",
   "execution_count": 103,
   "metadata": {},
   "outputs": [
    {
     "name": "stdout",
     "output_type": "stream",
     "text": [
      "odds_01: [3, 1, 9, 5, 7]\n",
      "\n",
      "odds_02:\n",
      "3\n",
      "1\n",
      "9\n",
      "5\n",
      "7\n",
      "\n",
      "odds_01: [3, 1, 9, 5, 7]\n",
      "odds_02: <generator object <genexpr> at 0x7f7982f6d560>\n",
      "\n",
      "sorted_list: [0, 1, 2, 3, 4, 5, 6, 7, 8, 9]\n",
      "\n",
      "reversed_list: <list_reverseiterator object at 0x7f79a3793d30>\n",
      "9\n",
      "8\n",
      "7\n",
      "6\n",
      "5\n",
      "4\n",
      "3\n",
      "2\n",
      "1\n",
      "0\n"
     ]
    }
   ],
   "source": [
    "# 2. getsizeof()\n",
    "\n",
    "from sys import getsizeof\n",
    "\n",
    "\n",
    "# Demo - generator expression\n",
    "\n",
    "a_list = [6, 3, 4, 8, 2, 1, 9, 5, 7, 0]\n",
    "\n",
    "# list comprehension to pick out odd numbers\n",
    "odds_01 = [x for x in a_list if x % 2]\n",
    "print(f'odds_01: {odds_01}\\n')\n",
    "\n",
    "# generator expression to do the same\n",
    "odds_02 = (x for x in a_list if x % 2)\n",
    "print('odds_02:')\n",
    "for odd in odds_02:\n",
    "    print(odd)\n",
    "\n",
    "print(f'\\nodds_01: {odds_01}')\n",
    "print(f'odds_02: {odds_02}\\n')\n",
    "\n",
    "# sorted(): creates a new list\n",
    "sorted_list = sorted(a_list)\n",
    "print(f'sorted_list: {sorted_list}\\n')\n",
    "\n",
    "# reversed(): is a generator and does not create a new list\n",
    "reversed_list = reversed(sorted_list)\n",
    "print(f'reversed_list: {reversed_list}')\n",
    "for x in reversed_list:\n",
    "    print(x)"
   ]
  },
  {
   "cell_type": "code",
   "execution_count": 104,
   "metadata": {},
   "outputs": [
    {
     "name": "stdout",
     "output_type": "stream",
     "text": [
      "getsizeof(product_data): 472\n",
      "\n",
      "getsizeof(report2): 248\n"
     ]
    }
   ],
   "source": [
    "# 3. Use getsizeof() to compare the size of the product_data and report_by_sales lists...\n",
    "\n",
    "print(f'getsizeof(product_data): {getsizeof(product_data)}\\n')\n",
    "print(f'getsizeof(report2): {getsizeof(report2)}')"
   ]
  },
  {
   "cell_type": "code",
   "execution_count": 105,
   "metadata": {},
   "outputs": [
    {
     "name": "stdout",
     "output_type": "stream",
     "text": [
      "Sum of element sizes in report2: 3923\n",
      "Sum of row sizes in report2: 2112\n",
      "List size for report2: 248\n"
     ]
    }
   ],
   "source": [
    "# 4. ... use a loop ... to add up the sizes of all of the elements... each item ... each row... and the list\n",
    "\n",
    "# size of elements\n",
    "elements_size = sum([getsizeof(element) for row in report2 for element in row])\n",
    "print(f'Sum of element sizes in report2: {elements_size}')\n",
    "\n",
    "# size of rows\n",
    "row_sizes = sum([getsizeof(row) for row in report2])\n",
    "print(f'Sum of row sizes in report2: {row_sizes}')\n",
    "\n",
    "# size of the list\n",
    "print(f'List size for report2: {getsizeof(report2)}')\n",
    "\n",
    "# NO, it does not seem getsizeof() counts the contents of a list as part of the lists size"
   ]
  },
  {
   "cell_type": "code",
   "execution_count": 106,
   "metadata": {},
   "outputs": [
    {
     "name": "stdout",
     "output_type": "stream",
     "text": [
      "report id(): 140160360687424\n",
      "\n",
      "slice(140159864890368): [['11009', 'Economy Device, Micro (Dozen)', 4123855.6999999997]]\n",
      "slice[0][0] id(140160889394384): 11009\n",
      "report[0][0] id(140160889394384): 11009\n",
      "slice[0][0] id(140160890324192): 999999\n",
      "report[0][0] id(140160890324192): 999999\n",
      "\n",
      "comp(140159864887360): ['999999', 4123855.6999999997]...\n",
      "comp[0][0] id(140160890324192): 999999\n",
      "report[0][0] id(140160890324192): 999999\n",
      "comp[0][0] id(140160890327504): 777777\n",
      "report[0][0] id(140160890324192): 999999\n",
      "\n"
     ]
    }
   ],
   "source": [
    "# 5. use the id() function to understand what is actually created when we copy a list... slice or comprehension\n",
    "\n",
    "print(f'report id(): {id(report)}\\n')\n",
    "\n",
    "# slice\n",
    "slice = report[:1]\n",
    "print(f'slice({id(slice)}): {slice}')\n",
    "print(f'slice[0][0] id({id(slice[0][0])}): {slice[0][0]}')\n",
    "print(f'report[0][0] id({id(report[0][0])}): {report[0][0]}')\n",
    "slice[0][0] = '999999'\n",
    "print(f'slice[0][0] id({id(slice[0][0])}): {slice[0][0]}')\n",
    "print(f'report[0][0] id({id(report[0][0])}): {report[0][0]}\\n')\n",
    "\n",
    "# a slice DOES NOT create a copy of the items sliced because modifying the item sliced modified the original\n",
    "\n",
    "# slice2 = report[:]\n",
    "# print(f'slice2({id(slice2)}): {slice2}')\n",
    "\n",
    "# comprehension\n",
    "comp = [[row[0]] + [row[2]] for row in report if row[2] > 4_000_000]\n",
    "print(f'comp({id(comp)}): {comp[0]}...')\n",
    "print(f'comp[0][0] id({id(comp[0][0])}): {comp[0][0]}')\n",
    "print(f'report[0][0] id({id(report[0][0])}): {report[0][0]}')\n",
    "comp[0][0] = '777777'\n",
    "print(f'comp[0][0] id({id(comp[0][0])}): {comp[0][0]}')\n",
    "print(f'report[0][0] id({id(report[0][0])}): {report[0][0]}\\n')\n",
    "\n",
    "# a comprehension DID NOT originally create a copy of the items because the ID was the same, \n",
    "# but modifying the comprehension list item DID NOT modify the original.\n",
    "# Is this because the comprehension row was not a reference to the same list as the report row, but in the slice it was?\n",
    "# Was list[0][0] just a reference to the same immutable string in memory, too?"
   ]
  },
  {
   "cell_type": "code",
   "execution_count": 107,
   "metadata": {},
   "outputs": [
    {
     "name": "stdout",
     "output_type": "stream",
     "text": [
      "['72710', 'Economy Gizmo, Large ', 0.47, 4558402.0]\n",
      "['11009', 'Economy Device, Micro (Dozen)', 0.29, 4123855.6999999997]\n",
      "['15862', 'Economy Whatsit, Micro (Gross)', 0.37, 4089473.0999999996]\n",
      "['30603', 'Budget Whatsit, Giant (Dozen)', 0.45, 3294479.01]\n",
      "['80372', 'Economy Device, Large (Gross)', 0.42, 2694492.3]\n",
      "['11663', 'Economy Device, Micro (Gross)', 0.3, 2529807.6999999997]\n",
      "['82046', 'Deluxe Widget, Mini (Dozen)', 0.28, 2372784.7]\n",
      "['85501', 'Economy Gadget, Micro (1000-pack)', 0.5, 2234717.02]\n",
      "['55603', 'Super Device, Giant ', 0.33, 2224998.5300000003]\n",
      "['94261', 'Deluxe Widget, Micro ', 0.39, 2167003.65]\n",
      "['16754', 'Super Gadget, Micro (Gross)', 0.35, 1958130.2999999998]\n",
      "['67352', 'Deluxe Gadget, Large ', 0.45, 1926380.26]\n",
      "['47360', 'Economy Gizmo, Extra Large (1000-pack)', 0.43, 1874225.17]\n",
      "['29865', 'Premium Whatsit, Mini (Dozen)', 0.45, 1666704.6]\n",
      "['93960', 'Premium Gizmo, Extra Large (Gross)', 0.46, 1645390.78]\n",
      "['96835', 'Economy Gadget, Large (Gross)', 0.4, 1521828.0]\n",
      "['13290', 'Premium Gizmo, Large ', 0.43, 1520431.36]\n",
      "['17484', 'Economy Device, Micro ', 0.35, 1460788.69]\n",
      "['27202', 'Economy Gizmo, Large ', 0.47, 1429541.1099999999]\n",
      "['35957', 'Premium Widget, Extra Large (Gross)', 0.37, 1369936.84]\n",
      "['47267', 'Economy Widget, Extra Large (1000-pack)', 0.29, 1345647.58]\n",
      "['26983', 'Student Whatsit, Mini (1000-pack)', 0.3, 1297226.94]\n",
      "['58911', 'Budget Device, Mini (Dozen)', 0.44, 1266518.08]\n",
      "['68802', 'Economy Gadget, Extra Large (1000-pack)', 0.49, 1249425.9]\n"
     ]
    }
   ],
   "source": [
    "# 6. Use a generator expression... and print the million dollar sellers report...\n",
    "\n",
    "# [ [sku. description] + [margin] + [current_sales] ]\n",
    "#gener = ( x[:2] + [x[4]] + [x[5] * (x[6] + x[7])] for x in product_data[1:] if x[5] * (x[6] + x[7]) > 1_000_000 )\n",
    "# for x in gener:\n",
    "#     print(x)\n",
    "#report2.sort(key=lambda x:x[3], reverse=True)\n",
    "# ????\n",
    "\n",
    "#[x for x in sorted(product_data[1:], key=lambda x:x[3], reverse=True)]\n",
    "#[x[:2] + [x[4]] + [x[5] * (x[6] + x[7])] for x in product_data[1:] if x[5] * (x[6] + x[7]) > 1_000_000]\n",
    "#[x[:2] + [x[4]] + [x[5] * (x[6] + x[7])] for x in sorted(product_data[1:], key=lambda x:x[5] * (x[6] + x[7]), reverse=True) if x[5] * (x[6] + x[7]) > 1_000_000]\n",
    "\n",
    "def calc_sales(row):\n",
    "    return row[5] * (row[6] + row[7])\n",
    "\n",
    "def sort_sales_data(data):\n",
    "    return sorted(data, key=lambda row:calc_sales(row), reverse=True)\n",
    "\n",
    "#[row[:2] + [row[4]] + [calc_sales(row)] for row in sort_sales_data(product_data[1:]) if calc_sales(row) > 1_000_000]\n",
    "datagen = ( row[:2] + [row[4]] + [calc_sales(row)] for row in sort_sales_data(product_data[1:]) if calc_sales(row) > 1_000_000 )\n",
    "#print(datagen)\n",
    "for row in datagen:\n",
    "    print(row)"
   ]
  }
 ],
 "metadata": {
  "kernelspec": {
   "display_name": "Python 3",
   "language": "python",
   "name": "python3"
  },
  "language_info": {
   "codemirror_mode": {
    "name": "ipython",
    "version": 3
   },
   "file_extension": ".py",
   "mimetype": "text/x-python",
   "name": "python",
   "nbconvert_exporter": "python",
   "pygments_lexer": "ipython3",
   "version": "3.12.8"
  }
 },
 "nbformat": 4,
 "nbformat_minor": 2
}
